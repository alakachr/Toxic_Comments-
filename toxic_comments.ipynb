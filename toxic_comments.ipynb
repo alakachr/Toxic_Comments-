{
  "nbformat": 4,
  "nbformat_minor": 0,
  "metadata": {
    "colab": {
      "name": "Untitled3.ipynb",
      "provenance": []
    },
    "kernelspec": {
      "name": "python3",
      "display_name": "Python 3"
    },
    "language_info": {
      "name": "python"
    },
    "accelerator": "GPU"
  },
  "cells": [
    {
      "cell_type": "code",
      "metadata": {
        "colab": {
          "base_uri": "https://localhost:8080/"
        },
        "id": "bO-e4L5C_NDt",
        "outputId": "5a3d3e1e-91a8-42cc-d43f-469925c0794b"
      },
      "source": [
        "!unzip 'jigsaw-toxic-comment-classification-challenge.zip'"
      ],
      "execution_count": 5,
      "outputs": [
        {
          "output_type": "stream",
          "text": [
            "Archive:  jigsaw-toxic-comment-classification-challenge.zip\n",
            "  inflating: sample_submission.csv.zip  \n",
            "  inflating: test.csv.zip            \n",
            "  inflating: test_labels.csv.zip     \n",
            "  inflating: train.csv.zip           \n"
          ],
          "name": "stdout"
        }
      ]
    },
    {
      "cell_type": "code",
      "metadata": {
        "colab": {
          "base_uri": "https://localhost:8080/"
        },
        "id": "rpAcbgJx_iDQ",
        "outputId": "daef0e11-3a6a-4bd6-846f-85247fa5ae2f"
      },
      "source": [
        "!unzip 'train.csv.zip'"
      ],
      "execution_count": 6,
      "outputs": [
        {
          "output_type": "stream",
          "text": [
            "Archive:  train.csv.zip\n",
            "  inflating: train.csv               \n"
          ],
          "name": "stdout"
        }
      ]
    },
    {
      "cell_type": "code",
      "metadata": {
        "colab": {
          "base_uri": "https://localhost:8080/"
        },
        "id": "4hvaDeDVAliP",
        "outputId": "5ec3328b-8b97-4380-d3f4-6121c9589219"
      },
      "source": [
        "!unzip 'test.csv.zip'\n",
        "!unzip 'test_labels.csv.zip'\n",
        "!unzip 'sample_submission.csv.zip'\n"
      ],
      "execution_count": 7,
      "outputs": [
        {
          "output_type": "stream",
          "text": [
            "Archive:  test.csv.zip\n",
            "  inflating: test.csv                \n",
            "Archive:  test_labels.csv.zip\n",
            "  inflating: test_labels.csv         \n",
            "Archive:  sample_submission.csv.zip\n",
            "  inflating: sample_submission.csv   \n"
          ],
          "name": "stdout"
        }
      ]
    },
    {
      "cell_type": "code",
      "metadata": {
        "colab": {
          "base_uri": "https://localhost:8080/"
        },
        "id": "bnEWu7j1BR3l",
        "outputId": "c475c5bc-76fb-4de9-a018-957820f90bef"
      },
      "source": [
        "### Import Libraries \n",
        "import re\n",
        "import matplotlib\n",
        "import numpy as np\n",
        "import matplotlib.pyplot as plt\n",
        "import pandas as pd\n",
        "import nltk\n",
        "nltk.download('stopwords')\n",
        "from nltk.corpus import stopwords\n",
        "stop_words = set(stopwords.words('english'))\n",
        "from sklearn.svm import LinearSVC\n",
        "import seaborn as sns\n",
        "import pandas as pd\n",
        "from keras.preprocessing.text import Tokenizer\n",
        "from keras.preprocessing.sequence import pad_sequences\n",
        "from keras.utils import to_categorical\n",
        "from keras.models import Sequential\n",
        "from keras.layers import Dense, LSTM, Embedding, Input\n",
        "from sklearn.model_selection import train_test_split\n"
      ],
      "execution_count": 8,
      "outputs": [
        {
          "output_type": "stream",
          "text": [
            "[nltk_data] Downloading package stopwords to /root/nltk_data...\n",
            "[nltk_data]   Package stopwords is already up-to-date!\n"
          ],
          "name": "stdout"
        }
      ]
    },
    {
      "cell_type": "code",
      "metadata": {
        "id": "yrXsltxHB9Gk"
      },
      "source": [
        "### Reading csv data files using pandas dataframe \n",
        "\n",
        "train = pd.read_csv(\"./train.csv\", encoding = \"ISO-8859-1\")\n",
        "test = pd.read_csv(\"./test.csv\", encoding = \"ISO-8859-1\")"
      ],
      "execution_count": 9,
      "outputs": []
    },
    {
      "cell_type": "code",
      "metadata": {
        "id": "bTpTlMvNCJOZ"
      },
      "source": [
        "### Checking nulls in both the datasets\n",
        "\n",
        "print(\"Nulls in training dataset\",train.isnull().sum())\n",
        "print(\"\\nNulls in test dataset\",test.isnull().sum())\n",
        "\n",
        "### There are no missing values in both the datasets"
      ],
      "execution_count": null,
      "outputs": []
    },
    {
      "cell_type": "code",
      "metadata": {
        "id": "uAxXatz0CPUT"
      },
      "source": [
        "### Before cleaning the dataset I would like to perform EDA(Exploratory data analysis) by performing data visualization to understand\n",
        "### the distribution of different classes. I will be performing EDA on training dataset\n",
        "\n",
        "categorywise_data = train.drop(['id', 'comment_text'], axis=1)     ### Removed unnecessary columns - id and comment_text\n",
        "counts_category = []                                               ### A list that contains tuple which consists of class label and number of comments for that particular class \n",
        "categories = list(categorywise_data.columns.values)\n",
        "for i in categories:\n",
        "    counts_category.append((i, categorywise_data[i].sum()))\n",
        "    \n",
        "dataframe = pd.DataFrame(counts_category, columns=['Labels', 'number_of_comments'])   ### Dataframe made up of category and total number of comments"
      ],
      "execution_count": 9,
      "outputs": []
    },
    {
      "cell_type": "code",
      "metadata": {
        "colab": {
          "base_uri": "https://localhost:8080/",
          "height": 590
        },
        "id": "JgTINZFhCQMM",
        "outputId": "7e1c6914-af2a-49c0-cb12-156b18101c93"
      },
      "source": [
        "### Visualization 1\n",
        "\n",
        "### Bar graph of total number of comments per label \n",
        "### This visualization is helpful in identifying the total number of comments per label\n",
        "dataframe.plot(x='Labels', y='number_of_comments', kind='bar',figsize=(8,8))\n",
        "plt.title(\"Number of comments per category\")\n",
        "plt.ylabel('No. of Occurrences', fontsize=12)\n",
        "plt.xlabel('Labels', fontsize=12)\n",
        "\n",
        "### From the below graph we can observe that most of the comments having toxic label. \n",
        "### Threat label is having lowest no. of comments"
      ],
      "execution_count": 10,
      "outputs": [
        {
          "output_type": "execute_result",
          "data": {
            "text/plain": [
              "Text(0.5, 0, 'Labels')"
            ]
          },
          "metadata": {
            "tags": []
          },
          "execution_count": 10
        },
        {
          "output_type": "display_data",
          "data": {
            "image/png": "[encoded data removed]",
            "text/plain": [
              "<Figure size 576x576 with 1 Axes>"
            ]
          },
          "metadata": {
            "tags": [],
            "needs_background": "light"
          }
        }
      ]
    },
    {
      "cell_type": "code",
      "metadata": {
        "colab": {
          "base_uri": "https://localhost:8080/",
          "height": 825
        },
        "id": "7FvVXiXZCQWk",
        "outputId": "1515d8af-fef6-43fe-aab9-ef9ae5b0b53f"
      },
      "source": [
        "### Visualization 3\n",
        "\n",
        "### Graph of individual class against the total no. of labelled and unlabelled sentences for the same class\n",
        "\n",
        "fig, plots = plt.subplots(2,3,figsize=(15,12))\n",
        "plot1, plot2, plot3, plot4, plot5, plot6 = plots.flatten()\n",
        "sns.countplot(train['obscene'], ax = plot1)\n",
        "sns.countplot(train['threat'], ax = plot2)\n",
        "sns.countplot(train['insult'], ax = plot3)\n",
        "sns.countplot(train['identity_hate'], ax = plot4)\n",
        "sns.countplot(train['toxic'], ax = plot5)\n",
        "sns.countplot(train['severe_toxic'], ax = plot6)\n",
        "\n",
        "### From this graph it can be concluded that every class(category) is having higher no. of unlabelled sentences(0) as compared\n",
        "### to labelled sentences(1)"
      ],
      "execution_count": 11,
      "outputs": [
        {
          "output_type": "stream",
          "text": [
            "/usr/local/lib/python3.7/dist-packages/seaborn/_decorators.py:43: FutureWarning: Pass the following variable as a keyword arg: x. From version 0.12, the only valid positional argument will be `data`, and passing other arguments without an explicit keyword will result in an error or misinterpretation.\n",
            "  FutureWarning\n",
            "/usr/local/lib/python3.7/dist-packages/seaborn/_decorators.py:43: FutureWarning: Pass the following variable as a keyword arg: x. From version 0.12, the only valid positional argument will be `data`, and passing other arguments without an explicit keyword will result in an error or misinterpretation.\n",
            "  FutureWarning\n",
            "/usr/local/lib/python3.7/dist-packages/seaborn/_decorators.py:43: FutureWarning: Pass the following variable as a keyword arg: x. From version 0.12, the only valid positional argument will be `data`, and passing other arguments without an explicit keyword will result in an error or misinterpretation.\n",
            "  FutureWarning\n",
            "/usr/local/lib/python3.7/dist-packages/seaborn/_decorators.py:43: FutureWarning: Pass the following variable as a keyword arg: x. From version 0.12, the only valid positional argument will be `data`, and passing other arguments without an explicit keyword will result in an error or misinterpretation.\n",
            "  FutureWarning\n",
            "/usr/local/lib/python3.7/dist-packages/seaborn/_decorators.py:43: FutureWarning: Pass the following variable as a keyword arg: x. From version 0.12, the only valid positional argument will be `data`, and passing other arguments without an explicit keyword will result in an error or misinterpretation.\n",
            "  FutureWarning\n",
            "/usr/local/lib/python3.7/dist-packages/seaborn/_decorators.py:43: FutureWarning: Pass the following variable as a keyword arg: x. From version 0.12, the only valid positional argument will be `data`, and passing other arguments without an explicit keyword will result in an error or misinterpretation.\n",
            "  FutureWarning\n"
          ],
          "name": "stderr"
        },
        {
          "output_type": "execute_result",
          "data": {
            "text/plain": [
              "<matplotlib.axes._subplots.AxesSubplot at 0x7f0ce2d048d0>"
            ]
          },
          "metadata": {
            "tags": []
          },
          "execution_count": 11
        },
        {
          "output_type": "display_data",
          "data": {
            "image/png": "[encoded data removed]",
            "text/plain": [
              "<Figure size 1080x864 with 6 Axes>"
            ]
          },
          "metadata": {
            "tags": [],
            "needs_background": "light"
          }
        }
      ]
    },
    {
      "cell_type": "code",
      "metadata": {
        "id": "mL2gpJ39C8n4"
      },
      "source": [
        "### Data cleaning/Preparation \n",
        "\n",
        "def clean_text(text):\n",
        "    text = text.lower()\n",
        "    text = re.sub(r\"what's\", \"what is \", text)      ### conversion of contraction words to expanded words\n",
        "    text = re.sub(r\"\\'s\", \" \", text)\n",
        "    text = re.sub(r\"\\'ve\", \" have \", text)\n",
        "    text = re.sub(r\"can't\", \"can not \", text)\n",
        "    text = re.sub(r\"n't\", \" not \", text)\n",
        "    text = re.sub(r\"i'm\", \"i am \", text)\n",
        "    text = re.sub(r\"\\'re\", \" are \", text)\n",
        "    text = re.sub(r\"\\'d\", \" would \", text)\n",
        "    text = re.sub(r\"\\'ll\", \" will \", text)\n",
        "    text = re.sub(r\"\\'scuse\", \" excuse \", text)\n",
        "    text = re.sub('\\W', ' ', text)                                                 ### removing non-word characters\n",
        "    text = re.sub('[^A-Za-z\\' ]+', '',text)                                        ### removing all non-alphanumeric values(Except single quotes)\n",
        "    text = re.sub('\\s+', ' ', text)\n",
        "    text = text.strip(' ')\n",
        "    text = ' '.join([word for word in text.split() if word not in (stop_words)])    ### Stopwords removal\n",
        "    return text\n",
        "\n",
        "train[\"comment_text\"] = train[\"comment_text\"].apply(clean_text)\n",
        "test[\"comment_text\"] = test[\"comment_text\"].apply(clean_text)\n"
      ],
      "execution_count": 10,
      "outputs": []
    },
    {
      "cell_type": "code",
      "metadata": {
        "id": "QWwjxrdyDFy-"
      },
      "source": [
        "### Splitting up the labels and data\n",
        "### Training dataset is splitted into 2 parts. 1st part includes the training data(train_data) and 2nd part includes labels(train_label) \n",
        "### associated with the training data\n",
        "### Test dataset is having only 1 part i.e. test data which is used to predict the labels. \n",
        "\n",
        "train_data = train[\"comment_text\"]\n",
        "test_data = test[\"comment_text\"]\n",
        "train_label=train[['toxic', 'severe_toxic', 'obscene', 'threat','insult', 'identity_hate']]\n"
      ],
      "execution_count": 11,
      "outputs": []
    },
    {
      "cell_type": "code",
      "metadata": {
        "id": "qm3Lv_PDD4mb"
      },
      "source": [
        "### Creating corpus of words and coverting it into integer and then susbstituing it in sentences - prepare tokenizer\n",
        "tokenizer = Tokenizer(num_words = 40000) #40000 words are used here\n",
        "tokenizer.fit_on_texts(train_data)\n",
        "\n",
        "#convert each text into array of integers with help of tokenizer.\n",
        "train_final = tokenizer.texts_to_sequences(train_data)\n",
        "test_final = tokenizer.texts_to_sequences(test_data)"
      ],
      "execution_count": 12,
      "outputs": []
    },
    {
      "cell_type": "code",
      "metadata": {
        "colab": {
          "base_uri": "https://localhost:8080/"
        },
        "id": "MSzLdK6wEO-N",
        "outputId": "1b31d80c-dd00-48aa-e5de-936463c118a5"
      },
      "source": [
        "## Padding - Every sentence is unequal in length. We need to have all the sentence equal in lengths\n",
        "### If length of sentence is less than 150 then padding will increase sentence length to 150 by adding zeros, if its greater\n",
        "### than 150 then it will reduce the length of sentence to 150 by trimming the words\n",
        "\n",
        "train_padded =pad_sequences(train_final, maxlen=150)\n",
        "test_padded =pad_sequences(test_final, maxlen=150)\n",
        "print(\"Shape of training data\",train_padded.shape)\n",
        "print(\"Shape of testing data\",test_padded.shape)\n"
      ],
      "execution_count": 14,
      "outputs": [
        {
          "output_type": "stream",
          "text": [
            "Shape of training data (159571, 150)\n",
            "Shape of testing data (153164, 150)\n"
          ],
          "name": "stdout"
        }
      ]
    },
    {
      "cell_type": "code",
      "metadata": {
        "colab": {
          "base_uri": "https://localhost:8080/"
        },
        "id": "4u1I_KoWESbT",
        "outputId": "aea60104-fd68-4e92-c3b7-d4ed72dd4da5"
      },
      "source": [
        "### Building a model\n",
        "### I have built a sequential model using LSTM. Initial layer contains a word embedding layer having 128 hidden units. \n",
        "### Input to the LSTM model is given in the shape of an array of (159571, 150). There are 6 main classes and every class is having 2 sub classes.\n",
        "### For every Input observation, there are 6 labels. \n",
        "### I have used 2 LSTM layer with 64 hidden units. 1 Dense layer which is an output layer. Dropout probability is set to 0.2 for\n",
        "### 2 lSTM layers which will dropout the 20 percent of neuron automatically while training.Dropout resolves the problem of overfitting. \n",
        "### Output layer contains 6 hidden units. I have used sigmoid activation function in the output layer. The reason behind using\n",
        "### sigmoid activation function in the output layer is because we have multi label classification problem.\n",
        "### Every class(label) is having 2 more classes i.e.0 and 1 to predict. \n",
        "\n",
        "model = Sequential()\n",
        "model.add(Embedding(40000, 128))\n",
        "model.add(LSTM(units = 64, dropout = 0.2,return_sequences=True))\n",
        "model.add(LSTM(units = 64, dropout = 0.2))\n",
        "model.add(Dense(units = 6, activation = 'sigmoid'))\n",
        "model.summary()"
      ],
      "execution_count": 13,
      "outputs": [
        {
          "output_type": "stream",
          "text": [
            "Model: \"sequential\"\n",
            "_________________________________________________________________\n",
            "Layer (type)                 Output Shape              Param #   \n",
            "=================================================================\n",
            "embedding (Embedding)        (None, None, 128)         5120000   \n",
            "_________________________________________________________________\n",
            "lstm (LSTM)                  (None, None, 64)          49408     \n",
            "_________________________________________________________________\n",
            "lstm_1 (LSTM)                (None, 64)                33024     \n",
            "_________________________________________________________________\n",
            "dense (Dense)                (None, 6)                 390       \n",
            "=================================================================\n",
            "Total params: 5,202,822\n",
            "Trainable params: 5,202,822\n",
            "Non-trainable params: 0\n",
            "_________________________________________________________________\n"
          ],
          "name": "stdout"
        }
      ]
    },
    {
      "cell_type": "code",
      "metadata": {
        "colab": {
          "base_uri": "https://localhost:8080/"
        },
        "id": "O5JVubFeFMQH",
        "outputId": "a48ff0a8-59df-417c-d9c5-bf537cfeccbf"
      },
      "source": [
        "### Compiling the model and training the model using training dataset\n",
        "### We need to define loss function to measure the loss. Our problem is multi label multi classification problem.\n",
        "### Hence I decided to take loss function as binary_crossentropy. (Reference - https://www.dlology.com/blog/how-to-choose-last-layer-activation-and-loss-function/)\n",
        "### Adam optimizer is best for this problem. I tried RMSprop also but didn't get good accuracy. So decided to go with adam optimizer\n",
        "### accuracy metric has been used. Dataset is divided into training and validation set. \n",
        "### We got an accuracy of 97.79% on validation dataset. batch_size is 32 . \n",
        "### These are the Number of samples that goes through the network at a time and calculates the loss by updating the parameters.\n",
        "### I used only 1 epoch because I got almost 97% accuracy in 1 iteration.\n",
        "### Submission from the competition was evaluated on the basis of AUC. Hence i decided to use AUC metrics.\n",
        "### AUC is area under the curve. It can be calculated from receiver operating curve\n",
        "\n",
        "model.compile(loss = \"binary_crossentropy\", optimizer = \"adam\", metrics = [\"AUC\"])\n",
        "x_train, x_val, y_train, y_val = train_test_split(train_padded, train_label, shuffle = True, random_state = 123)\n",
        "model.fit(x_train, y_train, batch_size = 32, epochs = 1, validation_data = (x_val, y_val))"
      ],
      "execution_count": 15,
      "outputs": [
        {
          "output_type": "stream",
          "text": [
            "3740/3740 [==============================] - 288s 68ms/step - loss: 0.1021 - auc: 0.8925 - val_loss: 0.0479 - val_auc: 0.9805\n"
          ],
          "name": "stdout"
        },
        {
          "output_type": "execute_result",
          "data": {
            "text/plain": [
              "<tensorflow.python.keras.callbacks.History at 0x7f0e920e4bd0>"
            ]
          },
          "metadata": {
            "tags": []
          },
          "execution_count": 15
        }
      ]
    },
    {
      "cell_type": "markdown",
      "metadata": {
        "id": "mbV6O5gx7b36"
      },
      "source": [
        "# New Section"
      ]
    }
  ]
}